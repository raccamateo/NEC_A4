{
 "cells": [
  {
   "cell_type": "code",
   "execution_count": 6,
   "id": "initial_id",
   "metadata": {
    "collapsed": true,
    "ExecuteTime": {
     "end_time": "2024-01-13T18:15:36.624616Z",
     "start_time": "2024-01-13T18:15:34.328533Z"
    }
   },
   "outputs": [
    {
     "name": "stdout",
     "output_type": "stream",
     "text": [
      "Best Route: [14, 15, 16, 4, 1, 42, 41, 2, 40, 5, 38, 39, 37, 26, 25, 27, 22, 17, 18, 19, 12, 10, 8, 3, 9, 31, 30, 29, 32, 33, 34, 35, 36, 6, 7, 23, 20, 21, 28, 24, 11, 13]\n",
      "Total Distance: 1222\n"
     ]
    }
   ],
   "source": [
    "import numpy as np\n",
    "import random\n",
    "import tsplib95\n",
    "\n",
    "# Load TSP data from a file\n",
    "def load_tsp_data(filename):\n",
    "    problem = tsplib95.load(filename)\n",
    "    return problem\n",
    "\n",
    "# Create a random route\n",
    "def create_route(problem):\n",
    "    # Adjust for 1-based indexing used in TSPLIB\n",
    "    return np.random.permutation(range(1, problem.dimension + 1))\n",
    "\n",
    "# Initialize a population of routes\n",
    "def initialize_population(pop_size, problem):\n",
    "    return [create_route(problem) for _ in range(pop_size)]\n",
    "\n",
    "# Calculate the total distance of a route\n",
    "def calculate_fitness(route, problem):\n",
    "    # Wrap around the route to form a complete loop\n",
    "    wrapped_route = np.append(route, route[0])\n",
    "    return sum(problem.get_weight(wrapped_route[i], wrapped_route[i + 1]) for i in range(len(route)))\n",
    "\n",
    "# Selection: Tournament Selection\n",
    "def tournament_selection(population, problem, k=3):\n",
    "    selected = []\n",
    "    for _ in range(len(population)):\n",
    "        contenders = random.sample(population, k)\n",
    "        best = min(contenders, key=lambda route: calculate_fitness(route, problem))\n",
    "        selected.append(best)\n",
    "    return selected\n",
    "\n",
    "# Crossover: Ordered Crossover\n",
    "def ordered_crossover(parent1, parent2):\n",
    "    size = len(parent1)\n",
    "    child = [-1] * size\n",
    "    start, end = sorted(random.sample(range(size), 2))\n",
    "\n",
    "    # Copy a slice from first parent to child\n",
    "    for i in range(start, end + 1):\n",
    "        child[i] = parent1[i]\n",
    "\n",
    "    # Fill the child with the elements from the second parent in the order they appear\n",
    "    p2_elements = [item for item in parent2 if item not in child]\n",
    "    child_idx, p2_idx = 0, 0\n",
    "    while -1 in child:\n",
    "        if child[child_idx] == -1:\n",
    "            child[child_idx] = p2_elements[p2_idx]\n",
    "            p2_idx += 1\n",
    "        child_idx += 1\n",
    "\n",
    "    return child\n",
    "\n",
    "# Mutation: Swap Mutation\n",
    "def swap_mutation(route, mutation_rate):\n",
    "    for i in range(len(route)):\n",
    "        if random.random() < mutation_rate:\n",
    "            swap_idx = random.randint(0, len(route) - 1)\n",
    "            route[i], route[swap_idx] = route[swap_idx], route[i]\n",
    "    return route\n",
    "        \n",
    "def genetic_algorithm(problem, pop_size, generations, mutation_rate):\n",
    "    population = initialize_population(pop_size, problem)\n",
    "    for _ in range(generations):\n",
    "        # Selection\n",
    "        selected = tournament_selection(population, problem)\n",
    "\n",
    "        # Crossover\n",
    "        children = []\n",
    "        for i in range(0, pop_size, 2):\n",
    "            if i + 1 < len(selected):\n",
    "                child1 = ordered_crossover(selected[i], selected[i+1])\n",
    "                child2 = ordered_crossover(selected[i+1], selected[i])\n",
    "                children.append(swap_mutation(child1, mutation_rate))\n",
    "                children.append(swap_mutation(child2, mutation_rate))\n",
    "\n",
    "        population = children\n",
    "\n",
    "    # Select the best solution\n",
    "    best_route = min(population, key=lambda route: calculate_fitness(route, problem))\n",
    "    return best_route, calculate_fitness(best_route, problem)\n",
    "\n",
    "# Example execution\n",
    "problem = load_tsp_data(\"/Users/mwr/Downloads/NEC_A4/dantzig42.tsp.txt\")\n",
    "best_route, best_distance = genetic_algorithm(problem, pop_size=50, generations=100, mutation_rate=0.01)\n",
    "print(f\"Best Route: {best_route}\\nTotal Distance: {best_distance}\")"
   ]
  },
  {
   "cell_type": "code",
   "execution_count": null,
   "outputs": [],
   "source": [],
   "metadata": {
    "collapsed": false
   },
   "id": "c14db3745067ec44"
  }
 ],
 "metadata": {
  "kernelspec": {
   "display_name": "Python 3",
   "language": "python",
   "name": "python3"
  },
  "language_info": {
   "codemirror_mode": {
    "name": "ipython",
    "version": 2
   },
   "file_extension": ".py",
   "mimetype": "text/x-python",
   "name": "python",
   "nbconvert_exporter": "python",
   "pygments_lexer": "ipython2",
   "version": "2.7.6"
  }
 },
 "nbformat": 4,
 "nbformat_minor": 5
}
